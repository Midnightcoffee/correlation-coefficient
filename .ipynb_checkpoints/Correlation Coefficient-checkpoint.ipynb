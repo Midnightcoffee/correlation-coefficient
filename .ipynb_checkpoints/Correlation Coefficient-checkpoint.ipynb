{
 "metadata": {
  "name": "",
  "signature": "sha256:33b757ff6cc8b3f838d59a934b9bbe22cb3283714a172bba873da7ab5b16958e"
 },
 "nbformat": 3,
 "nbformat_minor": 0,
 "worksheets": [
  {
   "cells": [
    {
     "cell_type": "heading",
     "level": 1,
     "metadata": {},
     "source": [
      "Understanding Correlation Coefficient, r:\n"
     ]
    },
    {
     "cell_type": "markdown",
     "metadata": {},
     "source": [
      "Were going to re-investigate the idea that writting down your dreams helps you [remember more dreams](http://www.lucidity.com/NL11.DreamRecall.html)."
     ]
    },
    {
     "cell_type": "markdown",
     "metadata": {},
     "source": [
      " The dataset can be found [here](https://docs.google.com/spreadsheet/ccc?key=0Alo47BBiqLE0dEptdkxndTJOaklINnFaTnFMSmtsUUE&usp=sharing#gid=0), and is part of Udacities \"Intro to Inferential Statistics\" Class. "
     ]
    },
    {
     "cell_type": "markdown",
     "metadata": {},
     "source": [
      "Lets use python's dataframe library  \"Pandas\" to compute this equation on a sample dataset."
     ]
    },
    {
     "cell_type": "code",
     "collapsed": false,
     "input": [
      "import pandas # pandas helps us store our data in columnns and easily perform column operations.\n",
      "%mathplotlib.inline\n",
      "import matplotlib.pyplot as plt #this allows us to show our plots in the notebook.\n"
     ],
     "language": "python",
     "metadata": {},
     "outputs": [],
     "prompt_number": 2
    },
    {
     "cell_type": "markdown",
     "metadata": {},
     "source": [
      "dreams has two columns: **written** and **remembered**. \"Written\" is the number of dreams written down and \"remembered\" is the number of dreams remembered after waking. "
     ]
    },
    {
     "cell_type": "code",
     "collapsed": false,
     "input": [
      "dreams = pandas.DataFrame({\"written\": [5,3,6,4,5,3,8,14,16,12,13,0,0,1], \"remembered\": [8,10,13,12,5,8,15,28,27,19,20,0,3,1]})"
     ],
     "language": "python",
     "metadata": {},
     "outputs": [],
     "prompt_number": 5
    },
    {
     "cell_type": "markdown",
     "metadata": {},
     "source": [
      "Lets make a scatter plot to get a better idea how the data is distributed."
     ]
    },
    {
     "cell_type": "code",
     "collapsed": false,
     "input": [
      "dreams.plot(kind='scatter', x='written', y='remembered')\n"
     ],
     "language": "python",
     "metadata": {},
     "outputs": [
      {
       "metadata": {},
       "output_type": "pyout",
       "prompt_number": 8,
       "text": [
        "<matplotlib.axes.AxesSubplot at 0x7fef4f9af110>"
       ]
      },
      {
       "metadata": {},
       "output_type": "display_data",
       "png": "[encoded data removed]",
       "text": [
        "<matplotlib.figure.Figure at 0x7fef7ad20d90>"
       ]
      }
     ],
     "prompt_number": 8
    },
    {
     "cell_type": "markdown",
     "metadata": {},
     "source": [
      "It would seem that the more you write down your dreams, the more dreams you remember. It's easy from the graph to see the correlation is positive, but how strong is the correlation? This is what calculating the correlation coefficient ill tell us, the strength and direction of a linear relationship between two variables."
     ]
    },
    {
     "cell_type": "markdown",
     "metadata": {},
     "source": [
      "The formula for **r** as applied to a sample population:"
     ]
    },
    {
     "cell_type": "heading",
     "level": 4,
     "metadata": {},
     "source": [
      "     $$ r = \\frac{\\sum\\limits_{i=1}^{n}(X_{i} - \\bar{X})(Y_{i} - \\bar{Y})}{\\sqrt{\\frac{1}{n_{x}-1}\\sum\\limits_{i=1}^{n}(X_{i} - \\bar{X})^{2}}\\sqrt{\\frac{1}{n_{y} - 1}\\sum\\limits_{i=1}^{n}(Y_{i} - \\bar{Y})^{2}}} $$\n"
     ]
    },
    {
     "cell_type": "markdown",
     "metadata": {},
     "source": [
      "Doing this by hand would be tedious, but using a program/method like \"find_correlation_coefficient(dreams)\" won't help us remember how it works. Lets break the equation down a tad and into some smaller bits so its easier to recall."
     ]
    },
    {
     "cell_type": "markdown",
     "metadata": {},
     "source": [
      "That denominator looks familiar? its the sample standard deviation.\n"
     ]
    },
    {
     "cell_type": "markdown",
     "metadata": {},
     "source": [
      "$$ s_{x} = \\sqrt{\\frac{1}{N - 1}\\sum\\limits_{i=1}^n(X_{i} - \\bar{X})^{2}} $$"
     ]
    },
    {
     "cell_type": "markdown",
     "metadata": {},
     "source": [
      "so maybe it would help to re-write our correlation coefficient equation like so:"
     ]
    },
    {
     "cell_type": "heading",
     "level": 4,
     "metadata": {},
     "source": [
      "     $$ r = \\frac{\\sum\\limits_{i=1}^{n}(X_{i} - \\bar{X})(Y_{i} - \\bar{Y})}{s_{x} * s_{y}} $$\n"
     ]
    },
    {
     "cell_type": "markdown",
     "metadata": {},
     "source": [
      "the numerator might not look familiar but its measuring how much two things change each other. This is called the [covariance](http://en.wikipedia.org/wiki/Covariance)."
     ]
    },
    {
     "cell_type": "markdown",
     "metadata": {},
     "source": [
      "So now we can re-write our equation again:"
     ]
    },
    {
     "cell_type": "heading",
     "level": 4,
     "metadata": {},
     "source": [
      "     $$ r = \\frac{cov(X, Y)}{s_{x} * s_{y}} $$\n"
     ]
    },
    {
     "cell_type": "markdown",
     "metadata": {},
     "source": [
      " What were doing is building the equation by [chunking](http://psychology.about.com/od/cindex/g/chunking.htm) together smaller pieces of information. Which is a cool trick that utilizes how your brain works."
     ]
    },
    {
     "cell_type": "markdown",
     "metadata": {},
     "source": [
      "Believe it or not, we can now express equation using pandas in one easy to understand line:\n"
     ]
    },
    {
     "cell_type": "code",
     "collapsed": false,
     "input": [
      "r = dreams.written.cov(dreams.remembered)/(dreams.written.std() * dreams.remembered.std())"
     ],
     "language": "python",
     "metadata": {},
     "outputs": [],
     "prompt_number": 43
    },
    {
     "cell_type": "code",
     "collapsed": false,
     "input": [
      "r"
     ],
     "language": "python",
     "metadata": {},
     "outputs": [
      {
       "metadata": {},
       "output_type": "pyout",
       "prompt_number": 40,
       "text": [
        "0.9541449326178455"
       ]
      }
     ],
     "prompt_number": 40
    },
    {
     "cell_type": "markdown",
     "metadata": {},
     "source": [
      "The good news, is that once we understand the formula, we can chunk the idea that the correlation coefficient is the covariance divided by the standard deviation and simple use pandas built in function \"corr\""
     ]
    },
    {
     "cell_type": "code",
     "collapsed": false,
     "input": [
      "\n",
      "\n",
      "dreams.written.corr(dreams.remembered)\n"
     ],
     "language": "python",
     "metadata": {},
     "outputs": [
      {
       "metadata": {},
       "output_type": "pyout",
       "prompt_number": 44,
       "text": [
        "0.9541449326178455"
       ]
      }
     ],
     "prompt_number": 44
    }
   ],
   "metadata": {}
  }
 ]
}